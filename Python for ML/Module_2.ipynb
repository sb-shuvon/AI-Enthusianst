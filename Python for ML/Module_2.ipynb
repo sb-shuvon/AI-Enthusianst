{
 "cells": [
  {
   "cell_type": "markdown",
   "id": "1d87162e-0c47-4e01-abe7-874a4e948ad7",
   "metadata": {},
   "source": [
    "Conditional Statement in Python"
   ]
  },
  {
   "cell_type": "code",
   "execution_count": 4,
   "id": "d84ab9ba-8ed7-41dc-9448-93739203ffb1",
   "metadata": {},
   "outputs": [
    {
     "name": "stdout",
     "output_type": "stream",
     "text": [
      "Go to Travel\n"
     ]
    }
   ],
   "source": [
    "money = 2000\n",
    "raining = False\n",
    "\n",
    "## 1000 er beshi and jodi bristi na hoy\n",
    "\n",
    "if (money > 1000) and (raining == False):\n",
    "    print(\"Go to Travel\")\n",
    "else:\n",
    "    print(\"Save this money\")"
   ]
  },
  {
   "cell_type": "markdown",
   "id": "043bb950-4278-403c-8673-a92dc3d97925",
   "metadata": {},
   "source": [
    "Loop in Python"
   ]
  },
  {
   "cell_type": "code",
   "execution_count": 5,
   "id": "a62a671a-6343-4906-a107-86d9c7329462",
   "metadata": {},
   "outputs": [
    {
     "name": "stdout",
     "output_type": "stream",
     "text": [
      "1 1\n",
      "1 2\n",
      "1 3\n",
      "1 4\n",
      "2 1\n",
      "2 2\n",
      "2 3\n",
      "2 4\n",
      "3 1\n",
      "3 2\n",
      "3 3\n",
      "3 4\n",
      "4 1\n",
      "4 2\n",
      "4 3\n",
      "4 4\n",
      "5 1\n",
      "5 2\n",
      "5 3\n",
      "5 4\n",
      "6 1\n",
      "6 2\n",
      "6 3\n",
      "6 4\n",
      "7 1\n",
      "7 2\n",
      "7 3\n",
      "7 4\n",
      "8 1\n",
      "8 2\n",
      "8 3\n",
      "8 4\n",
      "9 1\n",
      "9 2\n",
      "9 3\n",
      "9 4\n"
     ]
    }
   ],
   "source": [
    "for i in range (1, 10):\n",
    "    for j in range(1, 5):\n",
    "        print(i, j)"
   ]
  },
  {
   "cell_type": "code",
   "execution_count": 6,
   "id": "2b4287fc-76bb-447c-8077-f180e045e39c",
   "metadata": {},
   "outputs": [
    {
     "name": "stdout",
     "output_type": "stream",
     "text": [
      "10\n"
     ]
    }
   ],
   "source": [
    "count = 10\n",
    "\n",
    "while count < 10:\n",
    "    print(count, \"Hello world\")\n",
    "    count = count + 1\n",
    "print(count)"
   ]
  },
  {
   "cell_type": "code",
   "execution_count": 8,
   "id": "4a6f1901-79c7-450e-b345-7873f57f1e8f",
   "metadata": {},
   "outputs": [
    {
     "name": "stdout",
     "output_type": "stream",
     "text": [
      "1 is processing\n",
      "1 is added to the sum\n",
      "2 is processing\n",
      "3 is processing\n",
      "3 is added to the sum\n",
      "4 is processing\n",
      "5 is processing\n",
      "5 is added to the sum\n",
      "6 is processing\n",
      "7 is processing\n",
      "7 is added to the sum\n",
      "8 is processing\n",
      "9 is processing\n",
      "9 is added to the sum\n",
      "10 is processing\n"
     ]
    }
   ],
   "source": [
    "sum = 0\n",
    "\n",
    "for i in range(1,11):\n",
    "    print(i, \"is processing\")\n",
    "\n",
    "    if i%2 == 0: ##even\n",
    "        continue\n",
    "\n",
    "    sum += i\n",
    "    print(i, \"is added to the sum\")"
   ]
  },
  {
   "cell_type": "markdown",
   "id": "bc3e111d-06a3-4369-a541-c796440c85b5",
   "metadata": {},
   "source": [
    "Program: Max and Min"
   ]
  },
  {
   "cell_type": "code",
   "execution_count": 11,
   "id": "674adffe-6988-41e9-b7a6-154958e97c07",
   "metadata": {},
   "outputs": [
    {
     "name": "stdin",
     "output_type": "stream",
     "text": [
      " 2 7 1\n"
     ]
    },
    {
     "name": "stdout",
     "output_type": "stream",
     "text": [
      "1 7\n"
     ]
    }
   ],
   "source": [
    "inp = input()\n",
    "\n",
    "numbers = inp.split()\n",
    "\n",
    "x = int(numbers[0])\n",
    "y = int(numbers[1])\n",
    "z = int(numbers[2])\n",
    "\n",
    "min = x\n",
    "max = x\n",
    "\n",
    "# get minimum number\n",
    "if y < min:\n",
    "    min = y\n",
    "if z < min:\n",
    "    min = z\n",
    "\n",
    "# get maximum number\n",
    "\n",
    "if y > max:\n",
    "    max = y\n",
    "if z > max:\n",
    "    max = z\n",
    "\n",
    "print(min, max)"
   ]
  },
  {
   "cell_type": "markdown",
   "id": "16bbd42d-18a4-45b6-8f1c-2ad146a190a9",
   "metadata": {},
   "source": [
    "Program: C. Even, Odd, Positive and Negative "
   ]
  },
  {
   "cell_type": "code",
   "execution_count": 16,
   "id": "1e2be6f2-0fd1-4c52-b627-e1956bc3a9cc",
   "metadata": {},
   "outputs": [
    {
     "name": "stdin",
     "output_type": "stream",
     "text": [
      " 5\n",
      " 5 -1 6 9 -8 \n"
     ]
    },
    {
     "name": "stdout",
     "output_type": "stream",
     "text": [
      "Even: 2\n",
      "Odd: 3\n",
      "Positive: 3\n",
      "Negative: 2\n"
     ]
    }
   ],
   "source": [
    "n = int(input())\n",
    "\n",
    "inp = input()\n",
    "\n",
    "numbers = inp.split()\n",
    "\n",
    "positive = 0; negative = 0; even = 0; odd = 0\n",
    "\n",
    "for i in range(n):\n",
    "    x = int(numbers[i])\n",
    "    # positive or negative\n",
    "    if x > 0:\n",
    "        positive+=1\n",
    "    elif x < 0:\n",
    "        negative+=1\n",
    "\n",
    "    #odd or even\n",
    "    if x % 2 == 0:\n",
    "        even+=1\n",
    "    else:\n",
    "        odd+=1\n",
    "\n",
    "print(\"Even:\", even)\n",
    "print(\"Odd:\", odd)\n",
    "print(\"Positive:\", positive)\n",
    "print(\"Negative:\", negative)"
   ]
  },
  {
   "cell_type": "code",
   "execution_count": null,
   "id": "05e6a34c-bf35-4126-bcc2-348e16e97f7a",
   "metadata": {},
   "outputs": [],
   "source": []
  }
 ],
 "metadata": {
  "kernelspec": {
   "display_name": "Python 3 (ipykernel)",
   "language": "python",
   "name": "python3"
  },
  "language_info": {
   "codemirror_mode": {
    "name": "ipython",
    "version": 3
   },
   "file_extension": ".py",
   "mimetype": "text/x-python",
   "name": "python",
   "nbconvert_exporter": "python",
   "pygments_lexer": "ipython3",
   "version": "3.13.5"
  }
 },
 "nbformat": 4,
 "nbformat_minor": 5
}
