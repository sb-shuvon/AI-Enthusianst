{
 "cells": [
  {
   "cell_type": "markdown",
   "id": "78b30676-3138-4cf8-a82a-e246328a0cfd",
   "metadata": {},
   "source": [
    "Variables and Data Type"
   ]
  },
  {
   "cell_type": "code",
   "execution_count": 6,
   "id": "7882daeb-fff7-445c-abb4-48f89b3db30c",
   "metadata": {},
   "outputs": [
    {
     "name": "stdout",
     "output_type": "stream",
     "text": [
      "1757279611\n"
     ]
    }
   ],
   "source": [
    "mobile_number = 1757279611\n",
    "\n",
    "print(mobile_number)"
   ]
  },
  {
   "cell_type": "code",
   "execution_count": 16,
   "id": "9518cd9b-bb7d-4aa2-85eb-1e85d5404489",
   "metadata": {},
   "outputs": [
    {
     "name": "stdout",
     "output_type": "stream",
     "text": [
      "<class 'str'> <class 'int'> <class 'float'> <class 'bool'>\n",
      "shuvon 22 5.5 True\n"
     ]
    }
   ],
   "source": [
    "my_name = \"shuvon\"\n",
    "my_age = 22\n",
    "my_height = 5.5\n",
    "is_score = True\n",
    "\n",
    "print(type(my_name), type(my_age), type(my_height), type(is_score))\n",
    "\n",
    "print(my_name, my_age, my_height, is_score)"
   ]
  },
  {
   "cell_type": "markdown",
   "id": "923a3cd7-bb54-4864-ab69-fa1fb49a493c",
   "metadata": {},
   "source": [
    "Taking Input in Python"
   ]
  },
  {
   "cell_type": "code",
   "execution_count": 20,
   "id": "6f3cf31a-cac4-44ec-8983-ff8f2c02df6c",
   "metadata": {},
   "outputs": [
    {
     "name": "stdin",
     "output_type": "stream",
     "text": [
      "what is my Wife name? Nilima\n"
     ]
    },
    {
     "name": "stdout",
     "output_type": "stream",
     "text": [
      "Nilima\n"
     ]
    }
   ],
   "source": [
    "name = input(\"what is my Wife name?\")\n",
    "\n",
    "print(name)"
   ]
  },
  {
   "cell_type": "markdown",
   "id": "2915225b-25c4-4f8d-a597-3b72d29e4c80",
   "metadata": {},
   "source": [
    "wife_age = input(\"How old are my wife age?\")\n",
    "\n",
    "print(type(wife_age), wife_age)"
   ]
  },
  {
   "cell_type": "code",
   "execution_count": 25,
   "id": "4fc10189-8e7d-4263-9c9e-6cfbc20a3715",
   "metadata": {},
   "outputs": [
    {
     "name": "stdin",
     "output_type": "stream",
     "text": [
      "Age ? 19\n"
     ]
    },
    {
     "name": "stdout",
     "output_type": "stream",
     "text": [
      "<class 'int'> 19\n"
     ]
    }
   ],
   "source": [
    "she_age = input(\"Age ?\") #string hisabe input nibe\n",
    "she_age = int(she_age) #string k integer a convert korlam\n",
    "\n",
    "print(type(she_age), she_age)"
   ]
  },
  {
   "cell_type": "code",
   "execution_count": 28,
   "id": "df33fa5f-a775-43ef-bb68-7ea9d0313a34",
   "metadata": {},
   "outputs": [
    {
     "name": "stdin",
     "output_type": "stream",
     "text": [
      "Height ? 5.5\n"
     ]
    },
    {
     "name": "stdout",
     "output_type": "stream",
     "text": [
      "5.5 <class 'str'>\n"
     ]
    }
   ],
   "source": [
    "she_height = input(\"Height ?\") #string hisabe nibe\n",
    "print(she_height, type(she_height))"
   ]
  },
  {
   "cell_type": "code",
   "execution_count": 29,
   "id": "666ce7dd-0de4-4895-b991-2ca65b61ce34",
   "metadata": {},
   "outputs": [
    {
     "name": "stdout",
     "output_type": "stream",
     "text": [
      "5.5 <class 'float'>\n"
     ]
    }
   ],
   "source": [
    "she_height = float(she_height) # string k float a convert korlam\n",
    "print(she_height, type(she_height))"
   ]
  },
  {
   "cell_type": "markdown",
   "id": "85b68b6d-6996-4864-8231-6bc17ff1e2fe",
   "metadata": {},
   "source": [
    "Operators in Python"
   ]
  },
  {
   "cell_type": "code",
   "execution_count": 30,
   "id": "669550bc-b313-4502-b2da-f70bda883f26",
   "metadata": {},
   "outputs": [
    {
     "name": "stdout",
     "output_type": "stream",
     "text": [
      "50 -30 400 0.25 10\n"
     ]
    }
   ],
   "source": [
    "x = 10; y = 40\n",
    "\n",
    "sum = x + y #summetion\n",
    "sub = x - y #subtraction\n",
    "into = x * y #multiplicatiom\n",
    "div = x / y #division\n",
    "rem = x % y #remainder\n",
    "\n",
    "print(sum, sub, into, div, rem)"
   ]
  },
  {
   "cell_type": "code",
   "execution_count": 39,
   "id": "9a1c747c-4c5b-4c02-9456-0b0b5e5fcb5d",
   "metadata": {},
   "outputs": [
    {
     "name": "stdout",
     "output_type": "stream",
     "text": [
      "True True\n",
      "False True\n",
      "False\n",
      "True\n"
     ]
    }
   ],
   "source": [
    "x = 20; y = 5\n",
    "\n",
    "greater_then = x > y\n",
    "greater_then_equal = (10 >= 10)\n",
    "\n",
    "print(greater_then, greater_then_equal)\n",
    "\n",
    "less_then = x < y\n",
    "less_then_equal = (20 >= 20)\n",
    "\n",
    "print(less_then, less_then_equal)\n",
    "\n",
    "equal = x == y\n",
    "print(equal)\n",
    "\n",
    "not_equal = x != y\n",
    "print(not_equal)"
   ]
  },
  {
   "cell_type": "markdown",
   "id": "cd08c74e-0a4f-4ba0-b386-910b3057ab4d",
   "metadata": {},
   "source": [
    "Logical Operator"
   ]
  },
  {
   "cell_type": "code",
   "execution_count": 41,
   "id": "7e3b4e9c-27bc-436b-8b7a-2eace4e58a43",
   "metadata": {},
   "outputs": [
    {
     "name": "stdout",
     "output_type": "stream",
     "text": [
      "False\n"
     ]
    }
   ],
   "source": [
    "a = 20; b = 30; c = 9\n",
    "\n",
    "result = (a > b) and (a > c)\n",
    "print(result)"
   ]
  },
  {
   "cell_type": "code",
   "execution_count": 43,
   "id": "2a2112ba-d790-4cb6-a812-595582707edd",
   "metadata": {},
   "outputs": [
    {
     "name": "stdout",
     "output_type": "stream",
     "text": [
      "True\n"
     ]
    }
   ],
   "source": [
    "a = 20; b = 30; c = 21\n",
    "\n",
    "result = (a < b) and (a < c)\n",
    "print(result)"
   ]
  },
  {
   "cell_type": "code",
   "execution_count": 46,
   "id": "87aa1316-85de-43d7-afb5-d1628dd5e375",
   "metadata": {},
   "outputs": [
    {
     "name": "stdout",
     "output_type": "stream",
     "text": [
      "True\n"
     ]
    }
   ],
   "source": [
    "a = 40; b = 5; c = 30\n",
    "result = (a > b) or (a > c)\n",
    "print(result)\n"
   ]
  },
  {
   "cell_type": "markdown",
   "id": "6b7fe7e4-2e25-4fe7-b3bc-54f338b667e7",
   "metadata": {},
   "source": [
    "Precedence and Associativity"
   ]
  },
  {
   "cell_type": "code",
   "execution_count": 47,
   "id": "3fb21a46-ff86-45ed-929a-bdab8ee1a522",
   "metadata": {},
   "outputs": [
    {
     "name": "stdout",
     "output_type": "stream",
     "text": [
      "5.0\n"
     ]
    }
   ],
   "source": [
    "eq = 10 + 10/2 - 5*2 #precedency maintain korbe\n",
    "print(eq)"
   ]
  },
  {
   "cell_type": "code",
   "execution_count": 48,
   "id": "170f07d5-f475-4a5f-9dc9-08045cd48aac",
   "metadata": {},
   "outputs": [
    {
     "name": "stdout",
     "output_type": "stream",
     "text": [
      "0.0\n"
     ]
    }
   ],
   "source": [
    "eq = (10+10)/2 - 5*2 ## ekhane breakte er part tuku age complete hobe\n",
    "print(eq)"
   ]
  },
  {
   "cell_type": "markdown",
   "id": "592ec959-0a58-4a5b-b4d6-ead23fa6709a",
   "metadata": {},
   "source": [
    "Problem: Digit Summetion"
   ]
  },
  {
   "cell_type": "code",
   "execution_count": 51,
   "id": "e586a146-e66d-4463-bb89-c165bdd7022a",
   "metadata": {},
   "outputs": [
    {
     "name": "stdin",
     "output_type": "stream",
     "text": [
      " 13 12\n"
     ]
    },
    {
     "name": "stdout",
     "output_type": "stream",
     "text": [
      "5\n"
     ]
    }
   ],
   "source": [
    "inp = input()\n",
    "\n",
    "numbers = inp.split()\n",
    "\n",
    "x = int(numbers[0]) \n",
    "y = int(numbers[1])\n",
    "\n",
    "last_digit_of_x = x % 10\n",
    "last_digit_of_y = y % 10\n",
    "\n",
    "sum = last_digit_of_x + last_digit_of_y\n",
    "\n",
    "print(sum)"
   ]
  },
  {
   "cell_type": "code",
   "execution_count": null,
   "id": "0316288d-b4f2-45ec-8447-df0f8eca9e9a",
   "metadata": {},
   "outputs": [],
   "source": []
  }
 ],
 "metadata": {
  "kernelspec": {
   "display_name": "Python 3 (ipykernel)",
   "language": "python",
   "name": "python3"
  },
  "language_info": {
   "codemirror_mode": {
    "name": "ipython",
    "version": 3
   },
   "file_extension": ".py",
   "mimetype": "text/x-python",
   "name": "python",
   "nbconvert_exporter": "python",
   "pygments_lexer": "ipython3",
   "version": "3.13.5"
  }
 },
 "nbformat": 4,
 "nbformat_minor": 5
}
